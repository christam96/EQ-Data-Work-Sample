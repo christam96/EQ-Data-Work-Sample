{
 "cells": [
  {
   "cell_type": "code",
   "execution_count": 1,
   "metadata": {},
   "outputs": [],
   "source": [
    "# Imports\n",
    "from collections import defaultdict"
   ]
  },
  {
   "cell_type": "code",
   "execution_count": 2,
   "metadata": {},
   "outputs": [],
   "source": [
    "# Initialize the problem by reading in question.txt and determining the starting and ending tasks.\n",
    "def initialize_problem(question):\n",
    "\n",
    "    startingTask = 0\n",
    "    goalTask = 0\n",
    "\n",
    "    with open(question) as f:\n",
    "        for line in f.readlines():\n",
    "            line = line.split()\n",
    "            if line[0] == 'starting': startingTask = int(line[2])\n",
    "            if line[0] == 'goal': goalTask = int(line[2])\n",
    "\n",
    "    return startingTask, goalTask"
   ]
  },
  {
   "cell_type": "code",
   "execution_count": 3,
   "metadata": {},
   "outputs": [],
   "source": [
    "# The problem can be solved using Topological sort on a DAG.\n",
    "# Build a DAG class to encode the dependencies of each task (ex. given tasks A and B where B depends on A, build an edge in the DAG A->B)\n",
    "# Use topological sort to determine the sequence of tasks\n",
    "class DAG:\n",
    "    def __init__(self, directed=False):\n",
    "        # Represents tasks in an adjacency list\n",
    "        self.graph = defaultdict(list)\n",
    "        self.directed = directed\n",
    "        \n",
    "    # Add an edge to DAG\n",
    "    def addEdge(self, frm, to):\n",
    "        self.graph[frm].append(to)\n",
    "        if self.directed is False:\n",
    "            self.graph[to].append(frm)\n",
    "        else:\n",
    "            self.graph[to] = self.graph[to]\n",
    "    \n",
    "    # For each vertex, recursively call this function to visit all immediately available vertices.\n",
    "    def topoSortvisit(self, s, visited, sortlist):\n",
    "        visited[s] = True\n",
    "        for i in self.graph[s]:\n",
    "            if not visited[i]:\n",
    "                self.topoSortvisit(i, visited, sortlist)\n",
    "        # Once we are finished visiting all immediately availale vertices, push the current vertex to the return stack\n",
    "        sortlist.insert(0, s)\n",
    "    \n",
    "    def topoSort(self):\n",
    "        visited = {i: False for i in self.graph}\n",
    "        sortlist = []\n",
    "       \n",
    "        # Call the recursive function on the constructed DAG\n",
    "        for v in self.graph:\n",
    "            if not visited[v]:\n",
    "                self.topoSortvisit(v, visited, sortlist)\n",
    "                \n",
    "        return sortlist"
   ]
  },
  {
   "cell_type": "code",
   "execution_count": 4,
   "metadata": {},
   "outputs": [],
   "source": [
    "def build_DAG(relations):\n",
    "    # Instantiate object of DAG class\n",
    "    g = DAG(directed=True)\n",
    "    # From relations.txt, build edges according to task dependencies\n",
    "    with open(relations) as f:\n",
    "        for line in f.readlines():\n",
    "            line = line.strip('\\n')\n",
    "            line = line.split('->') \n",
    "            first = int(line[0])\n",
    "            second = int(line[1])\n",
    "            g.addEdge(first, second)\n",
    "    return g"
   ]
  },
  {
   "cell_type": "code",
   "execution_count": 5,
   "metadata": {},
   "outputs": [
    {
     "name": "stdout",
     "output_type": "stream",
     "text": [
      "The resulting order of tasks is:  [73, 16, 100, 20, 94, 56, 55, 75, 97, 102, 31, 37, 36]\n"
     ]
    }
   ],
   "source": [
    "if __name__ == '__main__':\n",
    "    \n",
    "    # Initialize task by recording the start and end points, given in question.txt\n",
    "    startingTask, goalTask = initialize_problem('question.txt')\n",
    "    \n",
    "    # Construct the DAG according to the task dependencies given in relations.txt\n",
    "    g = build_DAG('relations.txt')            \n",
    "    \n",
    "    # Use Topological Sort to determine the order in which we need to complete these tasks\n",
    "    # NOTE: when we call topoSort, it will return a full list of all tasks in TaskIDs\n",
    "    # What we want, however, is to start and end at the tasks given by question.txt\n",
    "    # Therefore, we will need to crop the full path to only those tasks we are interested in\n",
    "    full_path = g.topoSort()\n",
    "\n",
    "    # Retrieve indices of start and end point and crop full_path to those tasks\n",
    "    start = full_path.index(startingTask)\n",
    "    end = full_path.index(goalTask)\n",
    "    result = full_path[start:end+1]\n",
    "    \n",
    "    # Print the result\n",
    "    print('The resulting order of tasks is: ', result)"
   ]
  }
 ],
 "metadata": {
  "kernelspec": {
   "display_name": "Python 3",
   "language": "python",
   "name": "python3"
  },
  "language_info": {
   "codemirror_mode": {
    "name": "ipython",
    "version": 3
   },
   "file_extension": ".py",
   "mimetype": "text/x-python",
   "name": "python",
   "nbconvert_exporter": "python",
   "pygments_lexer": "ipython3",
   "version": "3.7.9"
  }
 },
 "nbformat": 4,
 "nbformat_minor": 4
}
